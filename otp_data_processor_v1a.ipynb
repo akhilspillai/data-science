{
 "cells": [
  {
   "cell_type": "code",
   "execution_count": 1,
   "source": [
    "import pandas as pd\n",
    "import numpy as np\n",
    "from keras.preprocessing.text import Tokenizer\n",
    "from keras.preprocessing.sequence import pad_sequences\n",
    "from sklearn.model_selection import train_test_split\n",
    "\n",
    "from keras.models import Model, Input\n",
    "from keras.layers import (\n",
    "  LSTM,\n",
    "  Embedding,\n",
    "  Dense,\n",
    "  TimeDistributed,\n",
    "  Bidirectional,\n",
    "  concatenate,\n",
    "  SpatialDropout1D\n",
    ")"
   ],
   "outputs": [],
   "metadata": {}
  },
  {
   "cell_type": "code",
   "execution_count": 2,
   "source": [
    "otp_data = pd.read_csv(\"otp-data.csv\", names=[\"message\", \"otp\"])\n",
    "delimiters = '!\"#$%&()*+,./:;<=>?@[\\\\]^_`{|}~\\t\\n'\n",
    "tokenizer = Tokenizer(filters=delimiters) # custom filters\n",
    "# tokenizer = Tokenizer()\n",
    "tokenizer.fit_on_texts(otp_data[\"message\"])"
   ],
   "outputs": [],
   "metadata": {}
  },
  {
   "cell_type": "code",
   "execution_count": 3,
   "source": [
    "def format_data(row):\n",
    "  message = row[\"message\"].lower()\n",
    "  otp = row[\"otp\"].lower()\n",
    "  translate_dict = {c: \" \" for c in delimiters}\n",
    "  translate_map = str.maketrans(translate_dict)\n",
    "  message = message.translate(translate_map)\n",
    "  split_message = message.split()\n",
    "  return [(msg, 1) if msg == otp else (msg, 0) for msg in split_message], split_message"
   ],
   "outputs": [],
   "metadata": {}
  },
  {
   "cell_type": "code",
   "execution_count": 4,
   "source": [
    "otp_data[[\"otp index\", \"message\"]] = otp_data.apply(format_data, axis=1, result_type=\"expand\")\n"
   ],
   "outputs": [],
   "metadata": {}
  },
  {
   "cell_type": "code",
   "execution_count": 5,
   "source": [
    "words = list(set(word for msg in otp_data[\"message\"] for word in msg))\n",
    "n_words = len(words); n_words"
   ],
   "outputs": [
    {
     "output_type": "execute_result",
     "data": {
      "text/plain": [
       "1796"
      ]
     },
     "metadata": {},
     "execution_count": 5
    }
   ],
   "metadata": {}
  },
  {
   "cell_type": "code",
   "execution_count": 6,
   "source": [
    "max_len = max(len(msg) for msg in otp_data[\"message\"])\n",
    "max_len_char = max(len(word) for word in words); max_len_char\n",
    "[word for word in words if len(word) == max_len_char]"
   ],
   "outputs": [
    {
     "output_type": "execute_result",
     "data": {
      "text/plain": [
       "['justsaynotobrokerage', 'principalnsscollegeo']"
      ]
     },
     "metadata": {},
     "execution_count": 6
    }
   ],
   "metadata": {}
  },
  {
   "cell_type": "code",
   "execution_count": 7,
   "source": [
    "word2idx = {w: i + 2 for i, w in enumerate(words)}\n",
    "word2idx[\"UNK\"] = 1\n",
    "word2idx[\"PAD\"] = 0\n",
    "idx2word = {i: w for w, i in word2idx.items()}"
   ],
   "outputs": [],
   "metadata": {}
  },
  {
   "cell_type": "code",
   "execution_count": 8,
   "source": [
    "print(word2idx[\"airtel\"])\n",
    "print(idx2word[1797])"
   ],
   "outputs": [
    {
     "output_type": "stream",
     "name": "stdout",
     "text": [
      "90\n",
      "392841\n"
     ]
    }
   ],
   "metadata": {}
  },
  {
   "cell_type": "code",
   "execution_count": 9,
   "source": [
    "X_word = [[word2idx[w] for w in msg] for msg in otp_data[\"message\"]]\n",
    "X_word = pad_sequences(X_word, maxlen=max_len, value=word2idx[\"PAD\"], padding=\"post\", truncating=\"post\")"
   ],
   "outputs": [],
   "metadata": {}
  },
  {
   "cell_type": "code",
   "execution_count": 10,
   "source": [
    "chars = set(c for word in words for c in word)\n",
    "n_chars = len(chars)"
   ],
   "outputs": [],
   "metadata": {}
  },
  {
   "cell_type": "code",
   "execution_count": 11,
   "source": [
    "char2idx = {c: i+2 for i, c in enumerate(chars)}\n",
    "char2idx[\"UNK\"] = 1\n",
    "char2idx[\"PAD\"] = 0"
   ],
   "outputs": [],
   "metadata": {}
  },
  {
   "cell_type": "code",
   "execution_count": 12,
   "source": [
    "# X_char = [[[char2idx[c] for c in word] for word in msg]for msg in otp_data[\"message\"]]\n",
    "# X_char = [pad_sequences(char, maxlen=max_len_char, value=char2idx[\"PAD\"], padding=\"post\", truncating=\"post\") for char in X_char]\n",
    "\n",
    "X_char = []\n",
    "for msg in otp_data[\"message\"]:\n",
    "  sentence_seq = []\n",
    "  for i in range(max_len):\n",
    "    word_seq = []\n",
    "    for j in range(max_len_char):\n",
    "      try:\n",
    "        word_seq.append(char2idx[msg[i][j]])\n",
    "      except:\n",
    "        word_seq.append(char2idx[\"PAD\"])\n",
    "    sentence_seq.append(word_seq)\n",
    "  X_char.append(np.array(sentence_seq))"
   ],
   "outputs": [],
   "metadata": {}
  },
  {
   "cell_type": "code",
   "execution_count": 14,
   "source": [
    "Y = [[w[1] for w in otp_indices] for otp_indices in otp_data[\"otp index\"]]\n",
    "Y = pad_sequences(Y, maxlen=max_len, value=char2idx[\"PAD\"], padding=\"post\", truncating=\"post\")"
   ],
   "outputs": [],
   "metadata": {}
  },
  {
   "cell_type": "code",
   "execution_count": 15,
   "source": [
    "X_word_train, X_word_test, Y_train, Y_test = train_test_split(X_word, Y, test_size=0.1, random_state=2018)\n",
    "X_char_train, X_char_test, _, _ = train_test_split(X_char, Y, test_size=0.1, random_state=2018)"
   ],
   "outputs": [
    {
     "output_type": "stream",
     "name": "stdout",
     "text": [
      "['g-057221', 'is', 'your', 'google', 'verification', 'code', 'PAD', 'PAD', 'PAD', 'PAD', 'PAD', 'PAD', 'PAD', 'PAD', 'PAD', 'PAD', 'PAD', 'PAD', 'PAD', 'PAD', 'PAD', 'PAD', 'PAD', 'PAD', 'PAD', 'PAD', 'PAD', 'PAD', 'PAD', 'PAD', 'PAD', 'PAD', 'PAD', 'PAD', 'PAD', 'PAD', 'PAD', 'PAD', 'PAD', 'PAD', 'PAD', 'PAD', 'PAD', 'PAD', 'PAD', 'PAD', 'PAD', 'PAD', 'PAD', 'PAD', 'PAD', 'PAD', 'PAD', 'PAD', 'PAD', 'PAD', 'PAD', 'PAD', 'PAD', 'PAD', 'PAD', 'PAD', 'PAD']\n",
      "[1 0 0 0 0 0 0 0 0 0 0 0 0 0 0 0 0 0 0 0 0 0 0 0 0 0 0 0 0 0 0 0 0 0 0 0 0\n",
      " 0 0 0 0 0 0 0 0 0 0 0 0 0 0 0 0 0 0 0 0 0 0 0 0 0 0]\n"
     ]
    }
   ],
   "metadata": {}
  },
  {
   "cell_type": "code",
   "execution_count": 16,
   "source": [
    "word_in = Input(shape=(max_len,))\n",
    "emb_word = Embedding(input_dim=n_words + 2, output_dim=20, input_length=max_len, mask_zero=True)(word_in)\n",
    "\n",
    "char_in = Input(shape=(max_len, max_len_char,))\n",
    "emb_char = TimeDistributed(Embedding(input_dim=n_chars + 2, output_dim=10, input_length=max_len_char, mask_zero=True))(char_in)\n",
    "char_enc = TimeDistributed(LSTM(units=20, return_sequences=False, recurrent_dropout=0.5))(emb_char)\n",
    "\n",
    "x = concatenate([emb_word, char_enc])\n",
    "x = SpatialDropout1D(0.3)(x)\n",
    "main_lstm = Bidirectional(LSTM(units=50, return_sequences=True, recurrent_dropout=0.6))(x)\n",
    "\n",
    "out = TimeDistributed(Dense(2, activation=\"sigmoid\"))(main_lstm)\n",
    "model = Model([word_in, char_in], out)"
   ],
   "outputs": [],
   "metadata": {}
  },
  {
   "cell_type": "code",
   "execution_count": 17,
   "source": [
    "model.compile(optimizer=\"adam\", loss=\"sparse_categorical_crossentropy\", metrics=[\"acc\"])\n",
    "model.summary()"
   ],
   "outputs": [
    {
     "output_type": "stream",
     "name": "stdout",
     "text": [
      "Model: \"model\"\n",
      "__________________________________________________________________________________________________\n",
      "Layer (type)                    Output Shape         Param #     Connected to                     \n",
      "==================================================================================================\n",
      "input_2 (InputLayer)            [(None, 63, 20)]     0                                            \n",
      "__________________________________________________________________________________________________\n",
      "input_1 (InputLayer)            [(None, 63)]         0                                            \n",
      "__________________________________________________________________________________________________\n",
      "time_distributed (TimeDistribut (None, 63, 20, 10)   400         input_2[0][0]                    \n",
      "__________________________________________________________________________________________________\n",
      "embedding (Embedding)           (None, 63, 20)       35960       input_1[0][0]                    \n",
      "__________________________________________________________________________________________________\n",
      "time_distributed_1 (TimeDistrib (None, 63, 20)       2480        time_distributed[0][0]           \n",
      "__________________________________________________________________________________________________\n",
      "concatenate (Concatenate)       (None, 63, 40)       0           embedding[0][0]                  \n",
      "                                                                 time_distributed_1[0][0]         \n",
      "__________________________________________________________________________________________________\n",
      "spatial_dropout1d (SpatialDropo (None, 63, 40)       0           concatenate[0][0]                \n",
      "__________________________________________________________________________________________________\n",
      "bidirectional (Bidirectional)   (None, 63, 100)      36400       spatial_dropout1d[0][0]          \n",
      "__________________________________________________________________________________________________\n",
      "time_distributed_2 (TimeDistrib (None, 63, 2)        202         bidirectional[0][0]              \n",
      "==================================================================================================\n",
      "Total params: 75,442\n",
      "Trainable params: 75,442\n",
      "Non-trainable params: 0\n",
      "__________________________________________________________________________________________________\n"
     ]
    }
   ],
   "metadata": {}
  },
  {
   "cell_type": "code",
   "execution_count": 18,
   "source": [
    "history = model.fit([X_word_train, np.array(X_char_train)], np.array(Y_train).reshape(len(Y_train), max_len, 1), batch_size=32, epochs=10, validation_split=0.1, verbose=1)"
   ],
   "outputs": [
    {
     "output_type": "stream",
     "name": "stdout",
     "text": [
      "Epoch 1/10\n",
      "23/23 [==============================] - 43s 333ms/step - loss: 0.2124 - acc: 0.8566 - val_loss: 0.0781 - val_acc: 0.9528\n",
      "Epoch 2/10\n",
      "23/23 [==============================] - 4s 160ms/step - loss: 0.0657 - acc: 0.9521 - val_loss: 0.0515 - val_acc: 0.9528\n",
      "Epoch 3/10\n",
      "23/23 [==============================] - 4s 159ms/step - loss: 0.0533 - acc: 0.9514 - val_loss: 0.0495 - val_acc: 0.9528\n",
      "Epoch 4/10\n",
      "23/23 [==============================] - 4s 168ms/step - loss: 0.0521 - acc: 0.9510 - val_loss: 0.0484 - val_acc: 0.9528\n",
      "Epoch 5/10\n",
      "23/23 [==============================] - 4s 164ms/step - loss: 0.0506 - acc: 0.9520 - val_loss: 0.0467 - val_acc: 0.9528\n",
      "Epoch 6/10\n",
      "23/23 [==============================] - 4s 177ms/step - loss: 0.0481 - acc: 0.9507 - val_loss: 0.0438 - val_acc: 0.9528\n",
      "Epoch 7/10\n",
      "23/23 [==============================] - 4s 163ms/step - loss: 0.0446 - acc: 0.9527 - val_loss: 0.0363 - val_acc: 0.9528\n",
      "Epoch 8/10\n",
      "23/23 [==============================] - 4s 171ms/step - loss: 0.0335 - acc: 0.9515 - val_loss: 0.0218 - val_acc: 0.9528\n",
      "Epoch 9/10\n",
      "23/23 [==============================] - 4s 169ms/step - loss: 0.0195 - acc: 0.9661 - val_loss: 0.0131 - val_acc: 0.9801\n",
      "Epoch 10/10\n",
      "23/23 [==============================] - 4s 170ms/step - loss: 0.0118 - acc: 0.9890 - val_loss: 0.0092 - val_acc: 0.9888\n"
     ]
    }
   ],
   "metadata": {}
  },
  {
   "cell_type": "code",
   "execution_count": 19,
   "source": [
    "hist = pd.DataFrame(history.history)"
   ],
   "outputs": [],
   "metadata": {}
  },
  {
   "cell_type": "code",
   "execution_count": 20,
   "source": [
    "import matplotlib.pyplot as plt\n",
    "plt.style.use(\"ggplot\")\n",
    "plt.figure(figsize=(12,12))\n",
    "plt.plot(hist[\"acc\"])\n",
    "plt.plot(hist[\"val_acc\"])\n",
    "plt.show()"
   ],
   "outputs": [
    {
     "output_type": "display_data",
     "data": {
      "text/plain": [
       "<Figure size 864x864 with 1 Axes>"
      ],
      "image/png": "[encoded data removed]"
     },
     "metadata": {}
    }
   ],
   "metadata": {}
  },
  {
   "cell_type": "code",
   "execution_count": 21,
   "source": [
    "Y_pred = model.predict([X_word_test, np.array(X_char_test)])"
   ],
   "outputs": [],
   "metadata": {}
  },
  {
   "cell_type": "code",
   "execution_count": 22,
   "source": [
    "count = 0\n",
    "for index in range(len(X_word_test)):\n",
    "  pred = np.argmax(Y_pred[index], axis = 1)\n",
    "  for idx in range(len(pred)):\n",
    "    if pred[idx] != Y_test[index][idx]:\n",
    "      # print([idx2word[i] for i in X_word_test[index]])\n",
    "      # print(pred)\n",
    "      # print(Y_test[index])\n",
    "      count += 1\n",
    "      break\n",
    "\n",
    "count"
   ],
   "outputs": [
    {
     "output_type": "execute_result",
     "data": {
      "text/plain": [
       "20"
      ]
     },
     "metadata": {},
     "execution_count": 22
    }
   ],
   "metadata": {}
  },
  {
   "cell_type": "code",
   "execution_count": 23,
   "source": [
    "[(idx2word[idx], i) for i, indices in enumerate(X_word_test) for idx in indices if idx2word[idx].startswith(\"g-\")]"
   ],
   "outputs": [
    {
     "output_type": "execute_result",
     "data": {
      "text/plain": [
       "[('g-057221', 48)]"
      ]
     },
     "metadata": {},
     "execution_count": 23
    }
   ],
   "metadata": {}
  },
  {
   "cell_type": "code",
   "execution_count": 24,
   "source": [
    "index = 48\n",
    "pred = np.argmax(Y_pred[index], axis = 1)\n",
    "print([idx2word[i] for i in X_word_test[index]])\n",
    "print(pred)\n",
    "print(Y_test[index])"
   ],
   "outputs": [
    {
     "output_type": "stream",
     "name": "stdout",
     "text": [
      "['g-057221', 'is', 'your', 'google', 'verification', 'code', 'PAD', 'PAD', 'PAD', 'PAD', 'PAD', 'PAD', 'PAD', 'PAD', 'PAD', 'PAD', 'PAD', 'PAD', 'PAD', 'PAD', 'PAD', 'PAD', 'PAD', 'PAD', 'PAD', 'PAD', 'PAD', 'PAD', 'PAD', 'PAD', 'PAD', 'PAD', 'PAD', 'PAD', 'PAD', 'PAD', 'PAD', 'PAD', 'PAD', 'PAD', 'PAD', 'PAD', 'PAD', 'PAD', 'PAD', 'PAD', 'PAD', 'PAD', 'PAD', 'PAD', 'PAD', 'PAD', 'PAD', 'PAD', 'PAD', 'PAD', 'PAD', 'PAD', 'PAD', 'PAD', 'PAD', 'PAD', 'PAD']\n",
      "[1 0 0 0 0 0 0 0 0 0 0 0 0 0 0 0 0 0 0 0 0 0 0 0 0 0 0 0 0 0 0 0 0 0 0 0 0\n",
      " 0 0 0 0 0 0 0 0 0 0 0 0 0 0 0 0 0 0 0 0 0 0 0 0 0 0]\n",
      "[1 0 0 0 0 0 0 0 0 0 0 0 0 0 0 0 0 0 0 0 0 0 0 0 0 0 0 0 0 0 0 0 0 0 0 0 0\n",
      " 0 0 0 0 0 0 0 0 0 0 0 0 0 0 0 0 0 0 0 0 0 0 0 0 0 0]\n"
     ]
    }
   ],
   "metadata": {}
  },
  {
   "cell_type": "code",
   "execution_count": null,
   "source": [],
   "outputs": [],
   "metadata": {}
  }
 ],
 "metadata": {
  "orig_nbformat": 4,
  "language_info": {
   "name": "python",
   "version": "3.8.8",
   "mimetype": "text/x-python",
   "codemirror_mode": {
    "name": "ipython",
    "version": 3
   },
   "pygments_lexer": "ipython3",
   "nbconvert_exporter": "python",
   "file_extension": ".py"
  },
  "kernelspec": {
   "name": "python3",
   "display_name": "Python 3.8.8 64-bit ('base': conda)"
  },
  "interpreter": {
   "hash": "79088fce5bc18c154a347f9818e4f199920cf07dd265641214521e6d2d234fdc"
  }
 },
 "nbformat": 4,
 "nbformat_minor": 2
}