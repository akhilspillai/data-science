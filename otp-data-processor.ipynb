{
 "cells": [
  {
   "cell_type": "code",
   "execution_count": 1,
   "source": [
    "import pandas as pd\n",
    "from util import *\n",
    "from tensorflow.keras.preprocessing.text import Tokenizer"
   ],
   "outputs": [],
   "metadata": {}
  },
  {
   "cell_type": "code",
   "execution_count": 2,
   "source": [
    "otp_data = pd.read_csv(\"otp-data.csv\", names=[\"message\", \"otp\"])"
   ],
   "outputs": [],
   "metadata": {}
  },
  {
   "cell_type": "code",
   "execution_count": 3,
   "source": [
    "# get_indices(otp_data.iloc[1])\n",
    "# np.where(otp_data[\"otp_start\"] != 0, otp_data[\"otp_start\"], otp_data[\"otp_end\"])\n",
    "otp_data[\"message\"] = otp_data.apply(format_data, axis=1)\n",
    "otp_data[otp_data[\"otp\"].str.startswith(\"G-\")].iloc[0][\"message\"].split()"
   ],
   "outputs": [
    {
     "output_type": "execute_result",
     "data": {
      "text/plain": [
       "['G-559669', 'is', 'your', 'Google', 'verification', 'code', '.']"
      ]
     },
     "metadata": {},
     "execution_count": 3
    }
   ],
   "metadata": {}
  },
  {
   "cell_type": "code",
   "execution_count": 4,
   "source": [
    "word_to_index, index_to_word, word_to_vec_map = read_glove_vecs('glove.6B.50d.txt')"
   ],
   "outputs": [],
   "metadata": {}
  },
  {
   "cell_type": "code",
   "execution_count": 5,
   "source": [
    "def is_not_in_glove(otp, word_to_vec_map: dict):\n",
    "  def check_message(message):\n",
    "    words = message.split()\n",
    "    for word in words:\n",
    "      if word != otp and word not in word_to_vec_map:\n",
    "        return True\n",
    "    return False\n",
    "  return check_message"
   ],
   "outputs": [],
   "metadata": {}
  },
  {
   "cell_type": "code",
   "execution_count": 6,
   "source": [
    "def is_in_glove(x: pd.Series):\n",
    "  message = x[\"message\"]\n",
    "  otp = str(x[\"otp\"])\n",
    "  words = message.lower().split()\n",
    "  for word in words:\n",
    "    if word != otp and word not in word_to_vec_map:\n",
    "      return word\n",
    "  return \"\""
   ],
   "outputs": [],
   "metadata": {}
  },
  {
   "cell_type": "code",
   "execution_count": 9,
   "source": [
    "otp_data[[\"is_in_glove\"]] = otp_data.apply(is_in_glove, axis=1)"
   ],
   "outputs": [],
   "metadata": {}
  },
  {
   "cell_type": "code",
   "execution_count": 10,
   "source": [
    "otp_data[otp_data[\"is_in_glove\"] != \"\"][\"is_in_glove\"]"
   ],
   "outputs": [
    {
     "output_type": "execute_result",
     "data": {
      "text/plain": [
       "0                     6545\n",
       "1                   xx5009\n",
       "2                   xx5009\n",
       "3                   xx5009\n",
       "4                   xx5009\n",
       "              ...         \n",
       "869              free-wifi\n",
       "870              free-wifi\n",
       "872               flipkart\n",
       "873               flipkart\n",
       "874    airtel19/tn/prepaid\n",
       "Name: is_in_glove, Length: 770, dtype: object"
      ]
     },
     "metadata": {},
     "execution_count": 10
    }
   ],
   "metadata": {}
  },
  {
   "cell_type": "code",
   "execution_count": null,
   "source": [],
   "outputs": [],
   "metadata": {}
  }
 ],
 "metadata": {
  "interpreter": {
   "hash": "79088fce5bc18c154a347f9818e4f199920cf07dd265641214521e6d2d234fdc"
  },
  "kernelspec": {
   "name": "python3",
   "display_name": "Python 3.8.8 64-bit ('base': conda)"
  },
  "language_info": {
   "codemirror_mode": {
    "name": "ipython",
    "version": 3
   },
   "file_extension": ".py",
   "mimetype": "text/x-python",
   "name": "python",
   "nbconvert_exporter": "python",
   "pygments_lexer": "ipython3",
   "version": "3.8.8"
  },
  "orig_nbformat": 4
 },
 "nbformat": 4,
 "nbformat_minor": 2
}